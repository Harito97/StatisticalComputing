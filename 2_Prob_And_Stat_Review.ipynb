{
 "cells": [
  {
   "cell_type": "markdown",
   "metadata": {},
   "source": [
    "# Biến ngẫu nhiên và xác suất  "
   ]
  },
  {
   "cell_type": "markdown",
   "metadata": {},
   "source": [
    "## Phân bố và hàm mật độ "
   ]
  },
  {
   "cell_type": "markdown",
   "metadata": {},
   "source": [
    "cdf - hàm phân phối tích lũy là xác suất để ... $\\rightarrow$ là tích phân của hàm mật độ $f(x)$ - pdf  \n",
    "$F_{X}(x) = P(X \\leq x), x \\in \\R$"
   ]
  },
  {
   "cell_type": "markdown",
   "metadata": {},
   "source": [
    "Tính chất hàm phân phối tích lũy:  \n",
    "Biến ngẫu nhiên $X$ là liên tục nếu $F_X$ liên tục và rời rạc nều $F_X$ rời rạc"
   ]
  },
  {
   "cell_type": "markdown",
   "metadata": {},
   "source": [
    "## Expectation, Variance, and Moments"
   ]
  },
  {
   "cell_type": "markdown",
   "metadata": {},
   "source": [
    "- Expectation là giá trị trung bình dự kiến của một biến ngẫu nhiên.  \n",
    "- Variance đo độ biến động của các giá trị quanh giá trị trung bình.  \n",
    "- Moments là một cách để mô tả hình dạng của phân phối xác suất của một biến ngẫu nhiên, trong đó moments càng cao, càng nhiều thông tin về hình dạng phân phối. Variance là một dạng của moments, là moment thứ hai."
   ]
  },
  {
   "cell_type": "markdown",
   "metadata": {},
   "source": [
    "## Xác suất có điều kiện và độc lập "
   ]
  },
  {
   "cell_type": "markdown",
   "metadata": {},
   "source": [
    "$P (AB) = P (A|B)P (B) = P (B|A)P (A)$"
   ]
  },
  {
   "cell_type": "markdown",
   "metadata": {},
   "source": [
    "2 biến A và B là độc lập $\\iff$ $P(AB) = P(A)P(B)$"
   ]
  },
  {
   "cell_type": "markdown",
   "metadata": {},
   "source": [
    "## Tính chất đặc biệt của kỳ vọng và phương sai"
   ]
  },
  {
   "cell_type": "markdown",
   "metadata": {},
   "source": [
    "1. $E[aX + b] = aE[X] + b$\n",
    "2. $E[X + Y ] = E[X] + E[Y ]$\n",
    "3. If X and Y are independent, $E[XY ] = E[X]E[Y ]$\n",
    "4. $Var(b) = 0$\n",
    "5. $Var[aX + b] = a^{2} Var(X)$\n",
    "6. $Var(X + Y ) = Var(X) + Var(Y ) + 2Cov(X, Y )$\n",
    "7. If X and Y are independent, $Var(X + Y ) = Var(X) + Var(Y )$"
   ]
  },
  {
   "cell_type": "markdown",
   "metadata": {},
   "source": [
    "# Các phân phối rời rạc "
   ]
  },
  {
   "cell_type": "markdown",
   "metadata": {},
   "source": [
    "- Binomial and Multinomial Distribution (phân phối nhị thức và phân phối đa thức)  \n",
    "- Phân phối Geometric  \n",
    "- Phân phối nhị thức âm  \n",
    "- Phân phối Possion"
   ]
  },
  {
   "cell_type": "markdown",
   "metadata": {},
   "source": [
    "# Các phân phối liên tục "
   ]
  },
  {
   "cell_type": "markdown",
   "metadata": {},
   "source": [
    "- Normal Distribution (phân phối chuẩn)  \n",
    "- Gamma and Exponential Distributions (Gamma và mũ)  \n",
    "- Chisquare and $t$  \n",
    "- Beta and Uniform Distributions (Beta và phân phối đều)  \n",
    "- Lognormal Distribution  "
   ]
  },
  {
   "cell_type": "markdown",
   "metadata": {},
   "source": [
    "# Multivariate Normal Distribution (phân phối chuẩn đa biến)"
   ]
  },
  {
   "cell_type": "markdown",
   "metadata": {},
   "source": [
    "..."
   ]
  },
  {
   "cell_type": "markdown",
   "metadata": {},
   "source": [
    "# Lý thuyết về giới hạn (limit)"
   ]
  },
  {
   "cell_type": "markdown",
   "metadata": {},
   "source": [
    "## Luật số lớn (Laws of Large Numbers)"
   ]
  },
  {
   "cell_type": "markdown",
   "metadata": {},
   "source": [
    "## Lý thuyết giới hạn trung tâm (Central Limit Theorem)"
   ]
  },
  {
   "cell_type": "markdown",
   "metadata": {},
   "source": [
    "# Thống kê"
   ]
  },
  {
   "cell_type": "markdown",
   "metadata": {},
   "source": [
    "## Hàm phân phối thực nghiệm (The empirical distribution function)"
   ]
  },
  {
   "cell_type": "markdown",
   "metadata": {},
   "source": [
    "## Bias and Mean Squared Error"
   ]
  },
  {
   "cell_type": "markdown",
   "metadata": {},
   "source": [
    "## Method of Moments"
   ]
  },
  {
   "cell_type": "markdown",
   "metadata": {},
   "source": [
    "## The Likelihood Function"
   ]
  },
  {
   "cell_type": "markdown",
   "metadata": {},
   "source": [
    "## Maximum Likelihood Estimation"
   ]
  },
  {
   "cell_type": "markdown",
   "metadata": {},
   "source": [
    "# Bayes Theorem and Bayesian Statistics (lý thuyết Bayes và thống kê Bayesian)"
   ]
  },
  {
   "cell_type": "markdown",
   "metadata": {},
   "source": [
    "## Luật tổng xác suất "
   ]
  },
  {
   "cell_type": "markdown",
   "metadata": {},
   "source": [
    "## Lý thuyết Bayes"
   ]
  },
  {
   "cell_type": "markdown",
   "metadata": {},
   "source": [
    "$P(A|B) = \\frac{P(B|A)P(A)}{P(B)}$"
   ]
  },
  {
   "cell_type": "markdown",
   "metadata": {},
   "source": [
    "## Thống kê Bayesian "
   ]
  },
  {
   "cell_type": "markdown",
   "metadata": {},
   "source": [
    "Cho 1 mẫu data gồm {$x_1, ..., x_n$} $\\rightarrow$ ước lượng được điều kiện mật độ $\\theta$ là: $f_{\\theta | x}(\\theta)$"
   ]
  },
  {
   "cell_type": "markdown",
   "metadata": {},
   "source": [
    "# Markov Chain "
   ]
  },
  {
   "cell_type": "markdown",
   "metadata": {},
   "source": [
    "Mục tiêu tạo ra 1 chuỗi mô phỏng.  \n",
    "Với đơn vị thời gian không âm."
   ]
  },
  {
   "cell_type": "markdown",
   "metadata": {},
   "source": [
    "..."
   ]
  }
 ],
 "metadata": {
  "language_info": {
   "name": "python"
  }
 },
 "nbformat": 4,
 "nbformat_minor": 2
}
