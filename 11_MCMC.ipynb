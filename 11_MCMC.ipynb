{
 "cells": [
  {
   "cell_type": "markdown",
   "metadata": {},
   "source": [
    "# MCMC"
   ]
  },
  {
   "cell_type": "markdown",
   "metadata": {},
   "source": [
    "Để triển khai Markov Chain Monte Carlo (MCMC) Integration, chúng ta có thể sử dụng một thuật toán như Metropolis-Hastings để tạo ra một chuỗi Markov có phân phối ổn định là phân phối mục tiêu. Sau đó, chúng ta sẽ sử dụng chuỗi này để ước lượng tích phân.\n",
    "\n",
    "Dưới đây là một ví dụ về cách triển khai MCMC Integration bằng cách sử dụng Metropolis-Hastings trong R để ước lượng tích phân của hàm $f(x)=e^{−x}$ trên khoảng từ 0 đến 1:"
   ]
  },
  {
   "cell_type": "markdown",
   "metadata": {},
   "source": [
    "Chúng ta sử dụng hàm mục tiêu $f(x)=e^{−x}$ là hàm cần tích phân.\n",
    "Chúng ta triển khai thuật toán Metropolis-Hastings với một hàm đề xuất Gaussian để tạo ra một chuỗi Markov.\n",
    "Sau khi chạy thuật toán, chúng ta tính tổng trung bình của chuỗi để ước lượng tích phân."
   ]
  },
  {
   "cell_type": "code",
   "execution_count": 1,
   "metadata": {
    "vscode": {
     "languageId": "r"
    }
   },
   "outputs": [
    {
     "name": "stdout",
     "output_type": "stream",
     "text": [
      "Markov Chain Monte Carlo Integration Estimate: 5.301393e+16 \n"
     ]
    }
   ],
   "source": [
    "# Hàm mục tiêu f(x) = e^(-x)\n",
    "target_function <- function(x) {\n",
    "  return(exp(-x))\n",
    "}\n",
    "\n",
    "# Thuật toán Metropolis-Hastings\n",
    "metropolis_hastings <- function(target_function, proposal_function, num_samples, initial_value) {\n",
    "  chain <- numeric(num_samples)\n",
    "  current_value <- initial_value\n",
    "  accept_count <- 0\n",
    "  \n",
    "  for (i in 1:num_samples) {\n",
    "    proposal <- proposal_function(current_value)\n",
    "    acceptance_ratio <- target_function(proposal) / target_function(current_value)\n",
    "    if (runif(1) < acceptance_ratio) {\n",
    "      current_value <- proposal\n",
    "      accept_count <- accept_count + 1\n",
    "    }\n",
    "    chain[i] <- current_value\n",
    "  }\n",
    "  \n",
    "  acceptance_rate <- accept_count / num_samples\n",
    "  return(list(chain = chain, acceptance_rate = acceptance_rate))\n",
    "}\n",
    "\n",
    "# Hàm đề xuất: dùng phân phối Gaussian\n",
    "gaussian_proposal <- function(x) {\n",
    "  return(rnorm(1, mean = x, sd = 0.1))\n",
    "}\n",
    "\n",
    "# Số lượng mẫu\n",
    "num_samples <- 10000\n",
    "\n",
    "# Giá trị ban đầu\n",
    "initial_value <- 0.5\n",
    "\n",
    "# Chạy thuật toán Metropolis-Hastings\n",
    "result <- metropolis_hastings(target_function, gaussian_proposal, num_samples, initial_value)\n",
    "\n",
    "# Tính tổng trung bình của chuỗi để ước lượng tích phân\n",
    "integral_estimate <- mean(target_function(result$chain))\n",
    "\n",
    "# In ra kết quả ước lượng của tích phân\n",
    "cat(\"Markov Chain Monte Carlo Integration Estimate:\", integral_estimate, \"\\n\")\n"
   ]
  },
  {
   "cell_type": "markdown",
   "metadata": {},
   "source": [
    "Ví dụ 2.  \n",
    "Hãy xem xét một ví dụ đơn giản về ước lượng giá trị của pi bằng cách sử dụng phương pháp Monte Carlo và Markov Chain Monte Carlo (MCMC).\n",
    "\n",
    "Ví dụ: Ước lượng giá trị của pi\n",
    "\n",
    "Trong ví dụ này, chúng ta sẽ sử dụng phương pháp Monte Carlo để ước lượng giá trị của pi bằng cách tính tỷ lệ giữa diện tích của một đơn vị hình vuông và diện tích của một vòng tròn có bán kính 0.5 được nằm trong hình vuông. Sau đó, chúng ta sẽ sử dụng MCMC để ước lượng giá trị của pi bằng cách lấy mẫu từ phân phối đề xuất (trong trường hợp này, là phân phối đề xuất Gaussian) để tạo ra một chuỗi Markov và tính trung bình của chuỗi này."
   ]
  },
  {
   "cell_type": "code",
   "execution_count": 2,
   "metadata": {
    "vscode": {
     "languageId": "r"
    }
   },
   "outputs": [
    {
     "name": "stdout",
     "output_type": "stream",
     "text": [
      "Monte Carlo Estimate of Pi: 3.1032 \n",
      "MCMC Estimate of Pi: 0.08792331 \n"
     ]
    }
   ],
   "source": [
    "# Hàm kiểm tra một điểm có nằm trong vòng tròn hay không\n",
    "in_circle <- function(x, y) {\n",
    "  return(x^2 + y^2 < 0.25)\n",
    "}\n",
    "\n",
    "# Phương pháp Monte Carlo để ước lượng pi\n",
    "monte_carlo_pi <- function(num_samples) {\n",
    "  inside_circle <- 0\n",
    "  for (i in 1:num_samples) {\n",
    "    x <- runif(1, min = -0.5, max = 0.5)\n",
    "    y <- runif(1, min = -0.5, max = 0.5)\n",
    "    if (in_circle(x, y)) {\n",
    "      inside_circle <- inside_circle + 1\n",
    "    }\n",
    "  }\n",
    "  return(4 * inside_circle / num_samples)\n",
    "}\n",
    "\n",
    "# Hàm đề xuất cho MCMC: Phân phối Gaussian\n",
    "gaussian_proposal <- function(x) {\n",
    "  return(rnorm(1, mean = x, sd = 0.1))\n",
    "}\n",
    "\n",
    "# Markov Chain Monte Carlo để ước lượng pi\n",
    "mcmc_pi <- function(num_samples, initial_value) {\n",
    "  chain <- numeric(num_samples)\n",
    "  current_value <- initial_value\n",
    "  for (i in 1:num_samples) {\n",
    "    proposal <- gaussian_proposal(current_value)\n",
    "    acceptance_ratio <- min(1, (pi * exp(-proposal^2)) / (pi * exp(-current_value^2)))\n",
    "    if (runif(1) < acceptance_ratio) {\n",
    "      current_value <- proposal\n",
    "    }\n",
    "    chain[i] <- current_value\n",
    "  }\n",
    "  return(mean(chain))\n",
    "}\n",
    "\n",
    "# Số lượng mẫu\n",
    "num_samples <- 10000\n",
    "\n",
    "# Ước lượng pi bằng phương pháp Monte Carlo\n",
    "monte_carlo_estimate <- monte_carlo_pi(num_samples)\n",
    "cat(\"Monte Carlo Estimate of Pi:\", monte_carlo_estimate, \"\\n\")\n",
    "\n",
    "# Ước lượng pi bằng MCMC\n",
    "initial_value <- 0\n",
    "mcmc_estimate <- mcmc_pi(num_samples, initial_value)\n",
    "cat(\"MCMC Estimate of Pi:\", mcmc_estimate, \"\\n\")\n"
   ]
  },
  {
   "cell_type": "markdown",
   "metadata": {},
   "source": [
    "Chúng ta sử dụng phương pháp Monte Carlo để lấy mẫu các điểm trong hình vuông và đếm số điểm nằm trong vòng tròn.\n",
    "Chúng ta cũng sử dụng MCMC để ước lượng giá trị của pi bằng cách lấy mẫu từ phân phối đề xuất Gaussian. Trong trường hợp này, chúng ta sử dụng phân phối Gaussian với mean là giá trị hiện tại của chuỗi và độ lệch chuẩn là 0.1."
   ]
  }
 ],
 "metadata": {
  "kernelspec": {
   "display_name": "R",
   "language": "R",
   "name": "ir"
  },
  "language_info": {
   "codemirror_mode": "r",
   "file_extension": ".r",
   "mimetype": "text/x-r-source",
   "name": "R",
   "pygments_lexer": "r",
   "version": "4.3.3"
  }
 },
 "nbformat": 4,
 "nbformat_minor": 2
}
