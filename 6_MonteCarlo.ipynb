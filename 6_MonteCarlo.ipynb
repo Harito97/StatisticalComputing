{
 "cells": [
  {
   "cell_type": "markdown",
   "metadata": {},
   "source": [
    "# Intro"
   ]
  },
  {
   "cell_type": "markdown",
   "metadata": {},
   "source": [
    "# Tích phân Monte Carlo "
   ]
  },
  {
   "cell_type": "markdown",
   "metadata": {},
   "source": [
    "Giả sử có $g(x)$ là hàm muốn tính $\\int_{a}^{b} g(x) dx$  \n",
    "$X$ là biến ngẫu nhiên có hàm mật độ $f(x)$  \n",
    "$Y = g(X)$ "
   ]
  },
  {
   "cell_type": "markdown",
   "metadata": {},
   "source": [
    "Bước 1: Tính toán hàm kỳ vọng toán học $ E[g(X)] $ theo công thức:\n",
    "$ E[g(X)] = \\int_{-\\infty}^{\\infty} g(x) \\cdot f(x)  dx $\n",
    "\n",
    "Trong đó:\n",
    "- $g(x)$  hàm số muốn tính kỳ vọng của nó.\n",
    "- $f(x)$ là hàm mật độ xác suất của biến ngẫu nhiên $X$.\n",
    "\n",
    "Bước 2: Nếu ta có một mẫu ngẫu nhiên từ phân phối của $ X $, ta có thể ước lượng không thiên vị của $ E[g(X)] $ bằng trung bình của mẫu. Cụ thể, nếu ta có một mẫu ngẫu nhiên $ x_1, x_2, ..., x_n $ từ phân phối của $ X $, thì ước lượng không thiên vị của $ E[g(X)] $ là:\n",
    "\n",
    "$[ \\hat{E}[g(X)] = \\frac{1}{n} \\sum_{i=1}^{n} g(x_i) ]$\n",
    "\n",
    "Trong đó:\n",
    "- $ \\hat{E}[g(X)] $ là ước lượng không thiên vị của kỳ vọng toán học của $ Y $.\n",
    "- $ g(x_i) $ là giá trị của hàm $ g $ tại mẫu thứ $ i $."
   ]
  },
  {
   "cell_type": "markdown",
   "metadata": {},
   "source": [
    "## Ước lượng tích phân Monte Calor đơn giản "
   ]
  },
  {
   "cell_type": "markdown",
   "metadata": {
    "vscode": {
     "languageId": "plaintext"
    }
   },
   "source": [
    "### Ví dụ 6.1  \n",
    "Tính $\\theta = \\int_{0}^{1} e^{-x} dx$"
   ]
  },
  {
   "cell_type": "code",
   "execution_count": 1,
   "metadata": {
    "vscode": {
     "languageId": "r"
    }
   },
   "outputs": [
    {
     "name": "stdout",
     "output_type": "stream",
     "text": [
      "[1] 0.6307232\n",
      "[1] 0.6321206\n"
     ]
    }
   ],
   "source": [
    "m <- 10000\n",
    "x <- runif(m)   # tạo theo phân phối đều \n",
    "theta.hat <- mean(exp(-x))  # tính kỳ vọng thông qua trung bình của tổng các giá trị f(x)\n",
    "print(theta.hat)\n",
    "print(1 - exp(-1))  # giá trị tích phân thực "
   ]
  },
  {
   "cell_type": "markdown",
   "metadata": {},
   "source": [
    "### Ví dụ 6.2  \n",
    "Tính $\\theta = \\int_{2}^{4} e^{-x} dx$"
   ]
  },
  {
   "cell_type": "code",
   "execution_count": 3,
   "metadata": {
    "vscode": {
     "languageId": "r"
    }
   },
   "outputs": [
    {
     "name": "stdout",
     "output_type": "stream",
     "text": [
      "[1] 0.1169846\n",
      "[1] 0.1170196\n"
     ]
    }
   ],
   "source": [
    "m <- 10000\n",
    "x <- runif(m, min = 2, max = 4) # tạo theo phân phối đều\n",
    "theta.hat <- mean(exp(-x)) * (4 - 2) # tính kỳ vọng thông qua trung bình của tổng các giá trị f(x)\n",
    "print(theta.hat)\n",
    "print(exp(-2) - exp(-4)) # giá trị tích phân thực"
   ]
  },
  {
   "cell_type": "markdown",
   "metadata": {},
   "source": [
    "..."
   ]
  },
  {
   "cell_type": "markdown",
   "metadata": {},
   "source": [
    "# Importance Sampling"
   ]
  },
  {
   "cell_type": "markdown",
   "metadata": {},
   "source": [
    "Làm lại ví dụ tính tích phân ở trên:  \n",
    "Chọn hàm quan trọng $h(x)$  \n",
    "Như vậy tích phân $\\int_{0}^{\\pi/3} sin(x) dx$ = $mean(\\frac{f(x)}{h(x)})$"
   ]
  },
  {
   "cell_type": "code",
   "execution_count": 4,
   "metadata": {
    "vscode": {
     "languageId": "r"
    }
   },
   "outputs": [
    {
     "name": "stdout",
     "output_type": "stream",
     "text": [
      "Monte Carlo Estimate: 0.4559224 \n",
      "True Value: 0.6666667 \n"
     ]
    }
   ],
   "source": [
    "# Số lượng điểm được lấy mẫu\n",
    "num_samples <- 100000\n",
    "\n",
    "# Lấy mẫu ngẫu nhiên các giá trị của t từ 0 đến pi/3\n",
    "t_values <- runif(num_samples, min = 0, max = pi/3)\n",
    "\n",
    "# Tính giá trị của hàm sin(t) tại các giá trị của t\n",
    "sin_values <- sin(t_values)\n",
    "\n",
    "# Hàm quan trọng: h(t) = pi/3\n",
    "h_values <- rep(pi/3, num_samples)  # (pi/3, pi/3, ..., pi/3)\n",
    "\n",
    "# Tính tổng trung bình của các giá trị sin(t) / h(t)\n",
    "monte_carlo_estimate <- mean(sin_values / h_values)\n",
    "\n",
    "# Giá trị thực tế của tích phân\n",
    "true_value <- 2/3\n",
    "\n",
    "# In ra kết quả ước lượng Monte Carlo và giá trị thực tế\n",
    "cat(\"Monte Carlo Estimate:\", monte_carlo_estimate, \"\\n\")\n",
    "cat(\"True Value:\", true_value, \"\\n\")\n"
   ]
  },
  {
   "cell_type": "markdown",
   "metadata": {},
   "source": [
    "## Ví dụ 6.11  \n",
    "Tính $\\int_{0}^{1} \\frac{e^{-x}}{1 + x^2}dx$"
   ]
  },
  {
   "cell_type": "code",
   "execution_count": 5,
   "metadata": {
    "vscode": {
     "languageId": "r"
    }
   },
   "outputs": [],
   "source": [
    "m <- 10000\n",
    "theta.hat <- se <- numeric(5)\n",
    "\n",
    "g <- function(x) {\n",
    "    exp(-x - log(1 + x^2)) * (x > 0) * (x < 1)\n",
    "}\n",
    "\n",
    "x <- runif(m)\n",
    "# using f0\n",
    "fg <- g(x) / 1 # 1 là hàm mật độ của hàm mẫu chia \n",
    "theta.hat[1] <- mean(fg) * (1 - 0)\n",
    "se[1] <- sd(fg)\n",
    "\n",
    "x <- rexp(m, 1)\n",
    "# using f1\n",
    "fg <- g(x) / exp(-x)\n",
    "theta.hat[2] <- mean(fg) * (1 - 0)\n",
    "se[2] <- sd(fg)\n",
    "\n",
    "x <- rcauchy(m)\n",
    "# using f2\n",
    "i <- c(which(x > 1), which(x < 0))\n",
    "x[i] <- 2 # to catch overflow errors in g(x)\n",
    "fg <- g(x) / dcauchy(x)\n",
    "theta.hat[3] <- mean(fg) * (1 - 0)\n",
    "se[3] <- sd(fg)\n",
    "\n",
    "u <- runif(m)\n",
    "# f3, inverse transform method\n",
    "x <- -log(1 - u * (1 - exp(-1)))\n",
    "fg <- g(x) / (exp(-x) / (1 - exp(-1)))\n",
    "theta.hat[4] <- mean(fg) * (1 - 0)\n",
    "se[4] <- sd(fg)\n",
    "\n",
    "u <- runif(m)\n",
    "# f4, inverse transform method\n",
    "x <- tan(pi * u / 4)\n",
    "fg <- g(x) / (4 / ((1 + x^2) * pi)) # fg = f(x) / g(x)\n",
    "theta.hat[5] <- mean(fg) * (1 - 0)\n",
    "se[5] <- sd(fg)\n"
   ]
  },
  {
   "cell_type": "markdown",
   "metadata": {},
   "source": [
    "# Stratified Sampling"
   ]
  },
  {
   "cell_type": "markdown",
   "metadata": {},
   "source": [
    "Stratified Sampling là một phương pháp lấy mẫu được sử dụng để giảm sai số so với việc lấy mẫu ngẫu nhiên đơn giản. Trong Stratified Sampling, dữ liệu được chia thành các nhóm con gọi là strata, và mẫu được lấy một cách độc lập từ mỗi stratum. Mỗi stratum có thể có một tỷ lệ khác nhau trong dữ liệu tổng thể.\n",
    "\n",
    "Đối với bài toán tính tích phân, chúng ta có thể áp dụng Stratified Sampling bằng cách chia khoảng [0, π33π​] thành các stratum và lấy mẫu ngẫu nhiên từ mỗi stratum. Sau đó, chúng ta tính toán giá trị của hàm sin⁡(t)sin(t) tại các điểm mẫu và tính trung bình của chúng để ước lượng tích phân.\n",
    "\n",
    "Dưới đây là một triển khai của phương pháp này trong R để tính tích phân sin(x) từ 0 đến pi/3:"
   ]
  },
  {
   "cell_type": "code",
   "execution_count": 6,
   "metadata": {
    "vscode": {
     "languageId": "r"
    }
   },
   "outputs": [
    {
     "name": "stdout",
     "output_type": "stream",
     "text": [
      "Stratified Sampling Estimate: 0.4774638 \n"
     ]
    }
   ],
   "source": [
    "# Số lượng stratum\n",
    "num_strata <- 10\n",
    "\n",
    "# Số lượng điểm lấy mẫu trong mỗi stratum\n",
    "samples_per_stratum <- 10000\n",
    "\n",
    "# Tính chiều dài của mỗi stratum\n",
    "stratum_length <- pi/3 / num_strata\n",
    "\n",
    "# Khởi tạo biến để lưu trữ tổng giá trị hàm sin(t)\n",
    "total_sum <- 0\n",
    "\n",
    "# Lặp qua từng stratum\n",
    "for (i in 1:num_strata) {\n",
    "    # Tính biên dưới và biên trên của stratum\n",
    "    lower_bound <- (i - 1) * stratum_length\n",
    "    upper_bound <- i * stratum_length\n",
    "    \n",
    "    # Lấy mẫu ngẫu nhiên từ stratum hiện tại\n",
    "    t_values <- runif(samples_per_stratum, min = lower_bound, max = upper_bound)\n",
    "    \n",
    "    # Tính giá trị của hàm sin(t) tại các điểm mẫu\n",
    "    sin_values <- sin(t_values)\n",
    "    \n",
    "    # Tính tổng của giá trị hàm sin(t) trong stratum hiện tại và cộng vào tổng chung\n",
    "    total_sum <- total_sum + sum(sin_values)\n",
    "}\n",
    "\n",
    "# Tính ước lượng của tích phân bằng cách chia tổng chung cho số lượng mẫu đã lấy và số stratum\n",
    "stratified_estimate <- total_sum / (samples_per_stratum * num_strata)\n",
    "\n",
    "# In ra kết quả ước lượng của tích phân\n",
    "cat(\"Stratified Sampling Estimate:\", stratified_estimate, \"\\n\")"
   ]
  },
  {
   "cell_type": "markdown",
   "metadata": {},
   "source": [
    "## Ví dụ 6.12 "
   ]
  },
  {
   "cell_type": "code",
   "execution_count": 7,
   "metadata": {
    "vscode": {
     "languageId": "r"
    }
   },
   "outputs": [
    {
     "data": {
      "text/html": [
       "<table class=\"dataframe\">\n",
       "<caption>A matrix: 10 × 2 of type dbl</caption>\n",
       "<tbody>\n",
       "\t<tr><td>0.5461896</td><td>0.5372817</td></tr>\n",
       "\t<tr><td>0.5587807</td><td>0.5161543</td></tr>\n",
       "\t<tr><td>0.5531443</td><td>0.5323826</td></tr>\n",
       "\t<tr><td>0.4784457</td><td>0.5253398</td></tr>\n",
       "\t<tr><td>0.4868378</td><td>0.5337532</td></tr>\n",
       "\t<tr><td>0.5070597</td><td>0.5246502</td></tr>\n",
       "\t<tr><td>0.5537077</td><td>0.5159519</td></tr>\n",
       "\t<tr><td>0.5202127</td><td>0.5391458</td></tr>\n",
       "\t<tr><td>0.6007477</td><td>0.5416512</td></tr>\n",
       "\t<tr><td>0.5523200</td><td>0.5027102</td></tr>\n",
       "</tbody>\n",
       "</table>\n"
      ],
      "text/latex": [
       "A matrix: 10 × 2 of type dbl\n",
       "\\begin{tabular}{ll}\n",
       "\t 0.5461896 & 0.5372817\\\\\n",
       "\t 0.5587807 & 0.5161543\\\\\n",
       "\t 0.5531443 & 0.5323826\\\\\n",
       "\t 0.4784457 & 0.5253398\\\\\n",
       "\t 0.4868378 & 0.5337532\\\\\n",
       "\t 0.5070597 & 0.5246502\\\\\n",
       "\t 0.5537077 & 0.5159519\\\\\n",
       "\t 0.5202127 & 0.5391458\\\\\n",
       "\t 0.6007477 & 0.5416512\\\\\n",
       "\t 0.5523200 & 0.5027102\\\\\n",
       "\\end{tabular}\n"
      ],
      "text/markdown": [
       "\n",
       "A matrix: 10 × 2 of type dbl\n",
       "\n",
       "| 0.5461896 | 0.5372817 |\n",
       "| 0.5587807 | 0.5161543 |\n",
       "| 0.5531443 | 0.5323826 |\n",
       "| 0.4784457 | 0.5253398 |\n",
       "| 0.4868378 | 0.5337532 |\n",
       "| 0.5070597 | 0.5246502 |\n",
       "| 0.5537077 | 0.5159519 |\n",
       "| 0.5202127 | 0.5391458 |\n",
       "| 0.6007477 | 0.5416512 |\n",
       "| 0.5523200 | 0.5027102 |\n",
       "\n"
      ],
      "text/plain": [
       "      [,1]      [,2]     \n",
       " [1,] 0.5461896 0.5372817\n",
       " [2,] 0.5587807 0.5161543\n",
       " [3,] 0.5531443 0.5323826\n",
       " [4,] 0.4784457 0.5253398\n",
       " [5,] 0.4868378 0.5337532\n",
       " [6,] 0.5070597 0.5246502\n",
       " [7,] 0.5537077 0.5159519\n",
       " [8,] 0.5202127 0.5391458\n",
       " [9,] 0.6007477 0.5416512\n",
       "[10,] 0.5523200 0.5027102"
      ]
     },
     "metadata": {},
     "output_type": "display_data"
    }
   ],
   "source": [
    "M <- 20\n",
    "# number of replicates\n",
    "T2 <- numeric(4)\n",
    "estimates <- matrix(0, 10, 2)\n",
    "g <- function(x) {\n",
    "    exp(-x - log(1 + x^2)) * (x > 0) * (x < 1)\n",
    "}\n",
    "for (i in 1:10) {\n",
    "    estimates[i, 1] <- mean(g(runif(M)))\n",
    "    T2[1] <- mean(g(runif(M / 4, 0, .25)))\n",
    "    T2[2] <- mean(g(runif(M / 4, .25, .5)))\n",
    "    T2[3] <- mean(g(runif(M / 4, .5, .75)))\n",
    "    T2[4] <- mean(g(runif(M / 4, .75, 1)))\n",
    "    estimates[i, 2] <- mean(T2)\n",
    "}\n",
    "estimates\n"
   ]
  },
  {
   "cell_type": "markdown",
   "metadata": {},
   "source": [
    "# Stratified Importance Sampling"
   ]
  },
  {
   "cell_type": "markdown",
   "metadata": {},
   "source": [
    "Stratified Importance Sampling kết hợp hai phương pháp: Stratified Sampling và Importance Sampling. Trong phương pháp này, chúng ta chia dữ liệu thành các stratum như trong Stratified Sampling, nhưng thay vì lấy mẫu ngẫu nhiên từ mỗi stratum, chúng ta lấy mẫu sử dụng một phân phối quan trọng được chọn sao cho tối ưu cho từng stratum.\n",
    "\n",
    "Dưới đây là một ví dụ code triển khai Stratified Importance Sampling trong R cho bài toán tính tích phân của hàm $f(x)=e^{−x}$ trên khoảng từ 0 đến 1:"
   ]
  },
  {
   "cell_type": "code",
   "execution_count": 8,
   "metadata": {
    "vscode": {
     "languageId": "r"
    }
   },
   "outputs": [
    {
     "name": "stdout",
     "output_type": "stream",
     "text": [
      "Stratified Importance Sampling Estimate: 11.54923 \n"
     ]
    }
   ],
   "source": [
    "# Số lượng stratum\n",
    "num_strata <- 10\n",
    "\n",
    "# Số lượng điểm lấy mẫu trong mỗi stratum\n",
    "samples_per_stratum <- 10000\n",
    "\n",
    "# Tính chiều dài của mỗi stratum\n",
    "stratum_length <- 1 / num_strata\n",
    "\n",
    "# Khởi tạo biến để lưu trữ tổng giá trị hàm f(x)\n",
    "total_sum <- 0\n",
    "\n",
    "# Lặp qua từng stratum\n",
    "for (i in 1:num_strata) {\n",
    "    # Tính biên dưới và biên trên của stratum\n",
    "    lower_bound <- (i - 1) * stratum_length\n",
    "    upper_bound <- i * stratum_length\n",
    "\n",
    "    # Lấy mẫu ngẫu nhiên từ phân phối quan trọng (ví dụ: một phân phối chiều rộng hơn stratum)\n",
    "    x_values <- rexp(samples_per_stratum, rate = 2) * stratum_length + lower_bound\n",
    "\n",
    "    # Tính giá trị của hàm f(x) tại các điểm mẫu\n",
    "    f_values <- exp(-x_values)\n",
    "\n",
    "    # Tính trọng số quan trọng cho mỗi điểm mẫu\n",
    "    importance_weights <- dexp(x_values - lower_bound, rate = 2) / stratum_length\n",
    "\n",
    "    # Tính tổng của giá trị hàm f(x) với trọng số quan trọng và cộng vào tổng chung\n",
    "    total_sum <- total_sum + sum(f_values * importance_weights)\n",
    "}\n",
    "\n",
    "# Tính ước lượng của tích phân bằng cách chia tổng chung cho số lượng mẫu đã lấy và số stratum\n",
    "stratified_importance_estimate <- total_sum / (samples_per_stratum * num_strata)\n",
    "\n",
    "# In ra kết quả ước lượng của tích phân\n",
    "cat(\"Stratified Importance Sampling Estimate:\", stratified_importance_estimate, \"\\n\")\n"
   ]
  }
 ],
 "metadata": {
  "kernelspec": {
   "display_name": "R",
   "language": "R",
   "name": "ir"
  },
  "language_info": {
   "codemirror_mode": "r",
   "file_extension": ".r",
   "mimetype": "text/x-r-source",
   "name": "R",
   "pygments_lexer": "r",
   "version": "4.3.3"
  }
 },
 "nbformat": 4,
 "nbformat_minor": 2
}
