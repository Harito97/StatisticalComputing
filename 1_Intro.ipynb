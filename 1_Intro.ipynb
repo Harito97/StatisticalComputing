{
 "cells": [
  {
   "cell_type": "markdown",
   "metadata": {},
   "source": [
    "# Statistical Computing  "
   ]
  },
  {
   "cell_type": "markdown",
   "metadata": {},
   "source": [
    "## Phạm vi nghiên cứu  \n",
    "Computational statistics and statistical computing là 2 lĩnh vực riêng trong thống kê:  \n",
    "- **Statistical computing** truyền thống là dựa trên **phương pháp số và thuật toán** như là **tối ưu, sinh số ngẫu nhiên**.  \n",
    "- **Computational statistics** là khám phá dữ liệu, phương pháp Monte Carlo, phân chia dữ liệu (train, valid, test).  \n",
    "\n",
    "$\\rightarrow$ 2 lĩnh vực có nhiều điểm chung và project này sẽ theo học kiến thức từ cả 2 lĩnh vực trên."
   ]
  },
  {
   "cell_type": "markdown",
   "metadata": {},
   "source": [
    "## Monte Carlo  \n",
    "Phương pháp Monte Carlo dựa trên 1 tập đa dạng các phương pháp trong **thống kê kết luận** (statistical inference - dựa trên data mẫu đưa ra kết luận hay dự báo về tổng thể mà data mẫu đại diện) cũng như **phân tích số** khi mà việc mô phỏng được sử dụng: Các dạng **tích phân Monte Carlo**  \n",
    "  \n",
    "## Resampling method  \n",
    "Khi thực hiện **bootstrap**, **data mẫu được sinh ra dựa trên phân phối xác suất đã cho trước** để thực hiện việc tính toán xác suất. Như vậy cần việc thu thập thông tin thống kê về phân phối của data mẫu (**độ lệnh bias, sai số chuẩn SE**).  \n",
    "  \n",
    "Resampling method (như the **ordinary bootstrap and jackknife**) là phương pháp **không tham số** được sử dụng cho trường hợp: **không tồn tại trực tiếp phân phối của biến ngẫu nhiên or phương pháp mô phỏng**.  \n",
    "\n",
    "$\\rightarrow$ Phương pháp sinh mẫu giả (chương 3 & 4) sẽ hỗ trợ cho phương pháp Monte Carlo (chương 6 đến 11)  "
   ]
  },
  {
   "cell_type": "markdown",
   "metadata": {},
   "source": [
    "## Markov Chain Monte Carlo (MCMC)  \n",
    "Là phương pháp dựa trên 1 thuật toán có **mục đích sinh data mẫu từ 1 phân phối xác suất cụ thể - chính là phân phối dừng của chuỗi Markov**.  \n",
    "  \n",
    "Về 'phân phối dừng của chuỗi Markov':  \n",
    "Một \"stationary distribution\" của một Markov chain là một phân phối xác suất mà nó đạt được sau một số lượng đủ lớn các bước chuyển trạng thái $\\rightarrow$ tức là phân phối xác suất của các trạng thái khi chuỗi Markov đạt đến trạng thái ổn định.  \n",
    "  \n",
    "Về 'Markov chain':  \n",
    "Một chuỗi các sự kiện ngẫu nhiên trong đó xác suất chuyển đến một trạng thái mới chỉ phụ thuộc vào trạng thái hiện tại, không phụ thuộc vào lịch sử của chuỗi.  \n",
    "Trong một Markov chain, mỗi trạng thái có một xác suất chuyển đến các trạng thái khác.  \n",
    "  \n",
    "Nếu một Markov chain có \"stationary distribution\", điều này có nghĩa là phân phối xác suất của các trạng thái không thay đổi theo thời gian và được duy trì ổn định. Trong nhiều ứng dụng, việc xác định \"stationary distribution\" của một Markov chain là quan trọng để hiểu hành vi của hệ thống và các tính chất xác suất của nó sau một thời gian đủ lớn.  \n",
    "  \n",
    "Các phương pháp MCMC được dùng nhiều trong phân tích Bayesian, cũng như vật lý tính toán, tài chính tính toán. **Markov Chain Monte Carlo methods** được đề cập ở chương 11."
   ]
  },
  {
   "cell_type": "markdown",
   "metadata": {},
   "source": [
    "## Một số nội dung khác   \n",
    "**Ước lượng mật độ** (Density estimation) (Chapter 12) - không dùng tham số, dùng để khám phá dữ liệu cho mục đích **phân cụm dữ liệu**.  \n",
    "**Phương pháp tính** là cần thiết để **trực quan hóa dữ liệu đa chiều** cũng như tiến hành **giảm số chiều**.  \n",
    "Sự gia tăng khối lượng dữ liệu, dữ liệu stream và dữ liệu nhiều chiều được ứng dụng trong y sinh, kỹ thuật.  \n",
    "Chapter 5 giới thiệu phương pháp trực quan hóa dữ liệu đa chiều.  \n",
    "Các chủ đề lựa chọn trong phươn pháp số như root finding and numerical integration ở Chapter 13.  \n",
    "Việc tối ưu hóa với R ở nội dung Chapter 14.  \n",
    "  \n",
    "Các chủ đề về lập trình như benchmarking, efficiency and code profiling ở Chapter 15.  \n",
    "  \n",
    "There are now many excellent online resources available, in addition to the online R and RStudio documentation, such as galleries of code and graphics, online books, tutorials and blogs.  \n",
    "See the references in the individual chapters for some of these.  \n",
    "The R-bloggers website is worth visiting; it currently combines blog posts from some 750 bloggers at https://www.r-bloggers.com/."
   ]
  },
  {
   "cell_type": "markdown",
   "metadata": {},
   "source": [
    "# The R Environment \n"
   ]
  },
  {
   "cell_type": "markdown",
   "metadata": {},
   "source": [
    "R là 1 hệ thống tính toán thống kê và đồ họa.  \n",
    "Bao gồm 1 ngôn ngữ và 1 môi trường chạy (đồ họa, debug, dùng hàm hệ thống, chạy chương trình theo kịch bản).  \n",
    "R dựa trên ngôn ngữ S.  \n",
    "  \n",
    "The home page of the R project is http://www.r-project.org/, and the\n",
    "current R distribution and documentation are available on the Comprehensive\n",
    "R Archive Network (CRAN) at http://cran.R-project.org/.  \n",
    "\n",
    "Phần còn lại sau đây sẽ bao gồm kiến thức cơ bản để bắt đầu với R.  \n",
    "- Lựa chọn môi trường phát triển tích hợp (IDE) (hoặc cũng đâu cần dùng IDE)  \n",
    "- Cú pháp cơ bản  \n",
    "- Dùng sự giúp đỡ online  \n",
    "- Data, files, scripts, and packages.  \n",
    "- Vectors, matrices, lists and data frames, an overview of basic graphics functions."
   ]
  },
  {
   "cell_type": "markdown",
   "metadata": {},
   "source": [
    "# Getting Started with R and RStudio  \n",
    "...  \n",
    "Cái này không phải trọng tâm hiện tại (chủ yếu bao gồm các thành phần cửa số của RStudio)  "
   ]
  },
  {
   "cell_type": "markdown",
   "metadata": {},
   "source": [
    "# Basic Syntax  "
   ]
  },
  {
   "cell_type": "markdown",
   "metadata": {},
   "source": [
    "## Phép toán tử gán  \n",
    "Dùng `<-` hoặc `=`.  \n",
    "Nên dùng `<-` vì nó có thể dùng ở bất kỳ đâu trong khi `=` chỉ cho phép ở mức top level.  "
   ]
  },
  {
   "cell_type": "markdown",
   "metadata": {},
   "source": [
    "## Một số phép toán tử hay dùng  "
   ]
  },
  {
   "cell_type": "code",
   "execution_count": null,
   "metadata": {
    "vscode": {
     "languageId": "r"
    }
   },
   "outputs": [],
   "source": [
    "# Comment: #  \n",
    "# #this is a comment  \n",
    "  \n",
    "# Assignment: <-  \n",
    "x <- log2(2)\n",
    "\n",
    "# Concatenation operator: c\n",
    "c(3, 2, 2)\n",
    "\n",
    "# Elementwise multiplication (nhân từng phẩn từ của mảng này với phần tử tương ứng của mảng kia): *\n",
    "# a <- c(1,2,3)\n",
    "# b <- c(2,3,4)\n",
    "a * b # <- c(2,6,12)\n",
    "\n",
    "# Exponentiation: ^\n",
    "2^1.5\n",
    "\n",
    "# x mod y: x %% y\n",
    "25 %% 3\n",
    "\n",
    "# Integer division: %/%\n",
    "25 %/% 3\n",
    "\n",
    "# Sequence from a to b by h: seq\n",
    "seq(a, b, h)\n",
    "  \n",
    "# Sequence operator: :  \n",
    "0:20"
   ]
  },
  {
   "cell_type": "markdown",
   "metadata": {},
   "source": [
    "## Một số hàm hay dùng"
   ]
  },
  {
   "cell_type": "markdown",
   "metadata": {
    "vscode": {
     "languageId": "r"
    }
   },
   "source": [
    "- Square root: sqrt  \n",
    "- Lấy phần nguyên dưới, trên: floor, ceiling  \n",
    "- Natural logarithm (loga cơ số e): log  \n",
    "- Exponential function ex: exp  \n",
    "- Factorial: factorial  \n",
    "- Random Uniform numbers (phân phối đều): runif  \n",
    "- Random Normal numbers (phân phối chuẩn): rnorm  \n",
    "- Normal distribution (phân phối đều): pnorm, dnorm, qnorm  \n",
    "- Rank, sort: rank, sort  \n",
    "- Variance, covariance: var, cov  \n",
    "- Std. dev., correlation: sd, cor  \n",
    "- Frequency tables: table  \n",
    "- Missing values: NA, is.na  "
   ]
  },
  {
   "cell_type": "markdown",
   "metadata": {},
   "source": [
    "## Một số hàm và toán tử thường dùng với ma trận"
   ]
  },
  {
   "cell_type": "code",
   "execution_count": null,
   "metadata": {
    "vscode": {
     "languageId": "r"
    }
   },
   "outputs": [],
   "source": [
    "# Tạo 1 vector 0\n",
    "x <- numeric(n)\n",
    "x <- integer(n)\n",
    "x <- rep(0,n)\n",
    "\n",
    "# Zero matrix\n",
    "matrix(0, n, m)\n",
    "x <- matrix(0, n, m)\n",
    "# ith element of vector a\n",
    "a[i]\n",
    "a[i] <- 0\n",
    "# j th column of a matrix A\n",
    "A[,j]\n",
    "sum(A[,j])\n",
    "# ij th entry of matrix A\n",
    "A[i,j]\n",
    "x <- A[i, j]\n",
    "\n",
    "# Matrix multiplication (Nhân ma trận)\n",
    "%*%\n",
    "a %*% b\n",
    "\n",
    "# Elementwise multiplication *\n",
    "a * b\n",
    "\n",
    "# Matrix transpose\n",
    "t\n",
    "t(A)\n",
    "\n",
    "# Matrix inverse (tìm ma trận khả nghịch)\n",
    "solve\n",
    "solve(A)\n",
    "\n",
    "# Diagonal\n",
    "diag\n",
    "diag(A)"
   ]
  },
  {
   "cell_type": "markdown",
   "metadata": {},
   "source": [
    "# Using the R Online Help System  \n",
    "Dùng ?<tên hàm> hoặc ?\"tên toán tử\" hoặc help(...)  "
   ]
  },
  {
   "cell_type": "markdown",
   "metadata": {},
   "source": [
    "# Distributions and Statistical Tests  "
   ]
  },
  {
   "cell_type": "markdown",
   "metadata": {},
   "source": [
    "Phân phối và kiểm tra thống kê  \n",
    "Chủ yếu dùng tới `stats` package. "
   ]
  },
  {
   "cell_type": "code",
   "execution_count": 3,
   "metadata": {
    "vscode": {
     "languageId": "r"
    }
   },
   "outputs": [
    {
     "name": "stdout",
     "output_type": "stream",
     "text": [
      "R Information\n",
      "\n",
      "Help files with alias or concept or title matching ‘distribution’ using\n",
      "fuzzy matching:\n",
      "\n",
      "\n",
      "stats::Beta             The Beta Distribution\n",
      "  Concepts: Probability Distributions and Random Numbers\n",
      "stats::Binomial         The Binomial Distribution\n",
      "  Concepts: Probability Distributions and Random Numbers\n",
      "stats::bw.nrd0          Bandwidth Selectors for Kernel Density\n",
      "                        Estimation\n",
      "  Concepts: Probability Distributions and Random Numbers\n",
      "stats::Cauchy           The Cauchy Distribution\n",
      "  Concepts: Probability Distributions and Random Numbers\n",
      "stats::chisq.test       Pearson's Chi-squared Test for Count Data\n",
      "  Concepts: Probability Distributions and Random Numbers\n",
      "stats::Chisquare        The (non-central) Chi-Squared Distribution\n",
      "  Concepts: Probability Distributions and Random Numbers\n",
      "stats::density          Kernel Density Estimation\n",
      "  Concepts: Probability Distributions and Random Numbers\n",
      "stats::distribution     Distributions in the stats package\n",
      "  Aliases: distribution, distributions, Distributions\n",
      "  Concepts: Probability Distributions and Random Numbers\n",
      "stats::ecdf             Empirical Cumulative Distribution Function\n",
      "stats::Exponential      The Exponential Distribution\n",
      "  Concepts: Probability Distributions and Random Numbers\n",
      "stats::FDist            The F Distribution\n",
      "  Concepts: Probability Distributions and Random Numbers\n",
      "stats::fivenum          Tukey Five-Number Summaries\n",
      "  Concepts: Probability Distributions and Random Numbers\n",
      "stats::GammaDist        The Gamma Distribution\n",
      "  Concepts: Probability Distributions and Random Numbers\n",
      "stats::Geometric        The Geometric Distribution\n",
      "  Concepts: Probability Distributions and Random Numbers\n",
      "stats::Hypergeometric   The Hypergeometric Distribution\n",
      "  Concepts: Probability Distributions and Random Numbers\n",
      "stats::IQR              The Interquartile Range\n",
      "  Concepts: Probability Distributions and Random Numbers\n",
      "stats::Logistic         The Logistic Distribution\n",
      "  Concepts: Probability Distributions and Random Numbers\n",
      "stats::Lognormal        The Log Normal Distribution\n",
      "  Concepts: Probability Distributions and Random Numbers\n",
      "stats::Multinomial      The Multinomial Distribution\n",
      "  Concepts: Probability Distributions and Random Numbers\n",
      "stats::NegBinomial      The Negative Binomial Distribution\n",
      "  Concepts: Probability Distributions and Random Numbers\n",
      "stats::Normal           The Normal Distribution\n",
      "  Concepts: Probability Distributions and Random Numbers\n",
      "stats::Poisson          The Poisson Distribution\n",
      "  Concepts: Probability Distributions and Random Numbers\n",
      "stats::ppoints          Ordinates for Probability Plotting\n",
      "  Concepts: Probability Distributions and Random Numbers\n",
      "stats::qbirthday        Probability of coincidences\n",
      "  Concepts: Probability Distributions and Random Numbers\n",
      "stats::qqnorm           Quantile-Quantile Plots\n",
      "  Concepts: Probability Distributions and Random Numbers\n",
      "stats::r2dtable         Random 2-way Tables with Given Marginals\n",
      "  Concepts: Probability Distributions and Random Numbers\n",
      "stats::SignRank         Distribution of the Wilcoxon Signed Rank\n",
      "                        Statistic\n",
      "  Concepts: Probability Distributions and Random Numbers\n",
      "stats::Smirnov          Distribution of the Smirnov Statistic\n",
      "stats::TDist            The Student t Distribution\n",
      "  Concepts: Probability Distributions and Random Numbers\n",
      "stats::Tukey            The Studentized Range Distribution\n",
      "  Concepts: Probability Distributions and Random Numbers\n",
      "stats::Uniform          The Uniform Distribution\n",
      "  Concepts: Probability Distributions and Random Numbers\n",
      "stats::Weibull          The Weibull Distribution\n",
      "  Concepts: Probability Distributions and Random Numbers\n",
      "stats::Wilcoxon         Distribution of the Wilcoxon Rank Sum Statistic\n",
      "  Concepts: Probability Distributions and Random Numbers\n",
      "\n",
      "\n",
      "Type '?PKG::FOO' to inspect entries 'PKG::FOO', or 'TYPE?PKG::FOO' for\n",
      "entries like 'PKG::FOO-TYPE'.\n",
      "\n",
      "\n"
     ]
    }
   ],
   "source": [
    "help.search(\"distribution\", package=\"stats\")"
   ]
  },
  {
   "cell_type": "code",
   "execution_count": 4,
   "metadata": {
    "vscode": {
     "languageId": "r"
    }
   },
   "outputs": [
    {
     "name": "stdout",
     "output_type": "stream",
     "text": [
      "R Information\n",
      "\n",
      "Help files with alias or concept or title matching ‘.test’ using\n",
      "regular expression matching:\n",
      "\n",
      "\n",
      "stats::ansari.test      Ansari-Bradley Test\n",
      "  Aliases: ansari.test, ansari.test.default, ansari.test.formula\n",
      "stats::bartlett.test    Bartlett Test of Homogeneity of Variances\n",
      "  Aliases: bartlett.test, bartlett.test.default, bartlett.test.formula\n",
      "stats::binom.test       Exact Binomial Test\n",
      "  Aliases: binom.test\n",
      "stats::Box.test         Box-Pierce and Ljung-Box Tests\n",
      "  Aliases: Box.test\n",
      "stats::chisq.test       Pearson's Chi-squared Test for Count Data\n",
      "  Aliases: chisq.test\n",
      "stats::cor.test         Test for Association/Correlation Between Paired\n",
      "                        Samples\n",
      "  Aliases: cor.test, cor.test.default, cor.test.formula\n",
      "stats::fisher.test      Fisher's Exact Test for Count Data\n",
      "  Aliases: fisher.test\n",
      "stats::fligner.test     Fligner-Killeen Test of Homogeneity of\n",
      "                        Variances\n",
      "  Aliases: fligner.test, fligner.test.default, fligner.test.formula\n",
      "stats::friedman.test    Friedman Rank Sum Test\n",
      "  Aliases: friedman.test, friedman.test.default, friedman.test.formula\n",
      "stats::kruskal.test     Kruskal-Wallis Rank Sum Test\n",
      "  Aliases: kruskal.test, kruskal.test.default, kruskal.test.formula\n",
      "stats::ks.test          Kolmogorov-Smirnov Tests\n",
      "  Aliases: ks.test, ks.test.default, ks.test.formula\n",
      "stats::mantelhaen.test\n",
      "                        Cochran-Mantel-Haenszel Chi-Squared Test for\n",
      "                        Count Data\n",
      "  Aliases: mantelhaen.test\n",
      "stats::mauchly.test     Mauchly's Test of Sphericity\n",
      "  Aliases: mauchly.test, mauchly.test.SSD, mauchly.test.mlm\n",
      "stats::mcnemar.test     McNemar's Chi-squared Test for Count Data\n",
      "  Aliases: mcnemar.test\n",
      "stats::mood.test        Mood Two-Sample Test of Scale\n",
      "  Aliases: mood.test, mood.test.default, mood.test.formula\n",
      "stats::oneway.test      Test for Equal Means in a One-Way Layout\n",
      "  Aliases: oneway.test\n",
      "stats::pairwise.prop.test\n",
      "                        Pairwise comparisons for proportions\n",
      "  Aliases: pairwise.prop.test\n",
      "stats::pairwise.t.test\n",
      "                        Pairwise t tests\n",
      "  Aliases: pairwise.t.test\n",
      "stats::pairwise.wilcox.test\n",
      "                        Pairwise Wilcoxon Rank Sum Tests\n",
      "  Aliases: pairwise.wilcox.test\n",
      "stats::poisson.test     Exact Poisson tests\n",
      "  Aliases: poisson.test\n",
      "stats::power.anova.test\n",
      "                        Power Calculations for Balanced One-Way\n",
      "                        Analysis of Variance Tests\n",
      "  Aliases: power.anova.test\n",
      "stats::power.prop.test\n",
      "                        Power Calculations for Two-Sample Test for\n",
      "                        Proportions\n",
      "  Aliases: power.prop.test\n",
      "stats::power.t.test     Power calculations for one and two sample t\n",
      "                        tests\n",
      "  Aliases: power.t.test\n",
      "stats::PP.test          Phillips-Perron Test for Unit Roots\n",
      "  Aliases: PP.test\n",
      "stats::print.htest      Print Methods for Hypothesis Tests and Power\n",
      "                        Calculation Objects\n",
      "  Aliases: print.htest, print.power.htest\n",
      "stats::prop.test        Test of Equal or Given Proportions\n",
      "  Aliases: prop.test\n",
      "stats::prop.trend.test\n",
      "                        Test for trend in proportions\n",
      "  Aliases: prop.trend.test\n",
      "stats::quade.test       Quade Test\n",
      "  Aliases: quade.test, quade.test.default, quade.test.formula\n",
      "stats::shapiro.test     Shapiro-Wilk Normality Test\n",
      "  Aliases: shapiro.test\n",
      "stats::stats-defunct    Defunct Functions in Package 'stats'\n",
      "  Aliases: mauchley.test\n",
      "stats::t.test           Student's t-Test\n",
      "  Aliases: t.test, t.test.default, t.test.formula\n",
      "stats::var.test         F Test to Compare Two Variances\n",
      "  Aliases: var.test, var.test.default, var.test.formula\n",
      "stats::wilcox.test      Wilcoxon Rank Sum and Signed Rank Tests\n",
      "  Aliases: wilcox.test, wilcox.test.default, wilcox.test.formula\n",
      "  Concepts: Mann-Whitney Test\n",
      "\n",
      "\n",
      "Type '?PKG::FOO' to inspect entries 'PKG::FOO', or 'TYPE?PKG::FOO' for\n",
      "entries like 'PKG::FOO-TYPE'.\n",
      "\n",
      "\n"
     ]
    }
   ],
   "source": [
    "help.search(\".test\", package=\"stats\")"
   ]
  },
  {
   "cell_type": "markdown",
   "metadata": {},
   "source": [
    "# Functions   "
   ]
  },
  {
   "cell_type": "code",
   "execution_count": 12,
   "metadata": {
    "vscode": {
     "languageId": "r"
    }
   },
   "outputs": [
    {
     "data": {
      "text/html": [
       "<style>\n",
       ".list-inline {list-style: none; margin:0; padding: 0}\n",
       ".list-inline>li {display: inline-block}\n",
       ".list-inline>li:not(:last-child)::after {content: \"\\00b7\"; padding: 0 .5ex}\n",
       "</style>\n",
       "<ol class=list-inline><li>4</li><li>1</li><li>1</li><li>1</li><li>3</li><li>1</li><li>6</li><li>4</li><li>4</li><li>2</li><li>5</li><li>6</li><li>5</li><li>1</li><li>2</li><li>1</li><li>2</li><li>3</li><li>6</li><li>4</li></ol>\n"
      ],
      "text/latex": [
       "\\begin{enumerate*}\n",
       "\\item 4\n",
       "\\item 1\n",
       "\\item 1\n",
       "\\item 1\n",
       "\\item 3\n",
       "\\item 1\n",
       "\\item 6\n",
       "\\item 4\n",
       "\\item 4\n",
       "\\item 2\n",
       "\\item 5\n",
       "\\item 6\n",
       "\\item 5\n",
       "\\item 1\n",
       "\\item 2\n",
       "\\item 1\n",
       "\\item 2\n",
       "\\item 3\n",
       "\\item 6\n",
       "\\item 4\n",
       "\\end{enumerate*}\n"
      ],
      "text/markdown": [
       "1. 4\n",
       "2. 1\n",
       "3. 1\n",
       "4. 1\n",
       "5. 3\n",
       "6. 1\n",
       "7. 6\n",
       "8. 4\n",
       "9. 4\n",
       "10. 2\n",
       "11. 5\n",
       "12. 6\n",
       "13. 5\n",
       "14. 1\n",
       "15. 2\n",
       "16. 1\n",
       "17. 2\n",
       "18. 3\n",
       "19. 6\n",
       "20. 4\n",
       "\n",
       "\n"
      ],
      "text/plain": [
       " [1] 4 1 1 1 3 1 6 4 4 2 5 6 5 1 2 1 2 3 6 4"
      ]
     },
     "metadata": {},
     "output_type": "display_data"
    }
   ],
   "source": [
    "sumdice <- function(n, sides = 6) {\n",
    "    if (sides < 1) {\n",
    "        return(0)\n",
    "    }\n",
    "    k <- sample(1:sides, size = n, replace = TRUE)\n",
    "    return(k)\n",
    "}\n",
    "\n",
    "sumdice(20)"
   ]
  },
  {
   "cell_type": "markdown",
   "metadata": {},
   "source": [
    "# Arrays, Data Frames, and Lists  "
   ]
  },
  {
   "cell_type": "markdown",
   "metadata": {},
   "source": [
    "..."
   ]
  },
  {
   "cell_type": "markdown",
   "metadata": {},
   "source": [
    "# Formula Specification "
   ]
  },
  {
   "cell_type": "markdown",
   "metadata": {},
   "source": [
    "..."
   ]
  },
  {
   "cell_type": "markdown",
   "metadata": {},
   "source": [
    "# Graphics   "
   ]
  },
  {
   "cell_type": "markdown",
   "metadata": {},
   "source": [
    "..."
   ]
  },
  {
   "cell_type": "markdown",
   "metadata": {},
   "source": [
    "# Introduction to ggplot   "
   ]
  },
  {
   "cell_type": "markdown",
   "metadata": {},
   "source": [
    "..."
   ]
  },
  {
   "cell_type": "markdown",
   "metadata": {},
   "source": [
    "# Workspace and Files "
   ]
  },
  {
   "cell_type": "markdown",
   "metadata": {},
   "source": [
    "..."
   ]
  },
  {
   "cell_type": "markdown",
   "metadata": {},
   "source": [
    "# The Working Directory  "
   ]
  },
  {
   "cell_type": "markdown",
   "metadata": {},
   "source": [
    "..."
   ]
  },
  {
   "cell_type": "markdown",
   "metadata": {},
   "source": [
    "# Reading Data from External Files   "
   ]
  },
  {
   "cell_type": "markdown",
   "metadata": {},
   "source": [
    "..."
   ]
  },
  {
   "cell_type": "markdown",
   "metadata": {},
   "source": [
    "# Importing/Exporting .csv Files "
   ]
  },
  {
   "cell_type": "markdown",
   "metadata": {},
   "source": [
    "..."
   ]
  },
  {
   "cell_type": "markdown",
   "metadata": {},
   "source": [
    "# Using Scripts  "
   ]
  },
  {
   "cell_type": "markdown",
   "metadata": {},
   "source": [
    "..."
   ]
  },
  {
   "cell_type": "markdown",
   "metadata": {},
   "source": [
    "# Using Packages  "
   ]
  },
  {
   "cell_type": "markdown",
   "metadata": {},
   "source": [
    "..."
   ]
  },
  {
   "cell_type": "markdown",
   "metadata": {},
   "source": [
    "# Using R Markdown and knitr "
   ]
  },
  {
   "cell_type": "markdown",
   "metadata": {},
   "source": [
    "..."
   ]
  }
 ],
 "metadata": {
  "kernelspec": {
   "display_name": "R",
   "language": "R",
   "name": "ir"
  },
  "language_info": {
   "codemirror_mode": "r",
   "file_extension": ".r",
   "mimetype": "text/x-r-source",
   "name": "R",
   "pygments_lexer": "r",
   "version": "4.3.3"
  }
 },
 "nbformat": 4,
 "nbformat_minor": 2
}
